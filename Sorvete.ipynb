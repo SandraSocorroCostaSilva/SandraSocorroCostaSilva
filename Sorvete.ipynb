{
  "nbformat": 4,
  "nbformat_minor": 0,
  "metadata": {
    "colab": {
      "provenance": [],
      "authorship_tag": "ABX9TyPyYU8zTIcsFMW3KEQTzs5c",
      "include_colab_link": true
    },
    "kernelspec": {
      "name": "python3",
      "display_name": "Python 3"
    },
    "language_info": {
      "name": "python"
    }
  },
  "cells": [
    {
      "cell_type": "markdown",
      "metadata": {
        "id": "view-in-github",
        "colab_type": "text"
      },
      "source": [
        "<a href=\"https://colab.research.google.com/github/SandraSocorroCostaSilva/SandraSocorroCostaSilva/blob/main/Sorvete.ipynb\" target=\"_parent\"><img src=\"https://colab.research.google.com/assets/colab-badge.svg\" alt=\"Open In Colab\"/></a>"
      ]
    },
    {
      "cell_type": "code",
      "source": [
        "# complexidade ciclomática\n",
        "\n",
        "preco=0\n",
        "op=0        \n",
        "print(\"Bem vindo a sorveteria de Sandra.Temos 2 tipos de sorvete: Premium e Comum. O premium custa R$20,00 e o comum custa R$ 15,00\\n\\n1 - Sorvete premium\\n2 - Sorvete comum\\n\")\n",
        "preco=int(input(\"\\nQual tipo de sorvete você vai querer?\\n\"))\n",
        "if preco==1:\n",
        "    preco=20\n",
        "else:\n",
        "    preco=15\n",
        "\n",
        "op=int(input(\"\\nNos vendemos o sorvete em copinho ou em casquinha. O valor da casquinha e R$2,00 e o valor do copinho e R$1,00. Qual recipiente você vai escolher?\\n1 - Copinho:\\n2 - Casquinha:\\n\"))\n",
        "if op==1:\n",
        "    \n",
        "    preco=preco+1\n",
        "else:\n",
        "    preco=preco+2\n",
        "\n",
        "op=int(input(\"\\nA cobertura pode ser apenas uma por R$1 ou cobertura especial(mais de uma) por apenas R$2,00. Qual você vai querer?\\n1 - Simples\\n2 - Especial\\n\"))\n",
        "if op==1:\n",
        "    preco=preco+1\n",
        "else:\n",
        "    preco=preco+2\n",
        "\n",
        "print(\"\\nVocê vai pagar: \",preco)"
      ],
      "metadata": {
        "colab": {
          "base_uri": "https://localhost:8080/"
        },
        "id": "DT-6641L8f3a",
        "outputId": "358f3027-acaf-4376-e1b5-2b93d11a4c34"
      },
      "execution_count": null,
      "outputs": [
        {
          "output_type": "stream",
          "name": "stdout",
          "text": [
            "Bem vindo a sorveteria de Sandra.Temos 2 tipos de sorvete: Premium e Comum. O premium custa R$20,00 e o comum custa R$ 15,00\n",
            "\n",
            "1 - Sorvete premium\n",
            "2 - Sorvete comum\n",
            "\n",
            "\n",
            "Qual tipo de sorvete você vai querer?\n",
            "2\n",
            "\n",
            "Nos vendemos o sorvete em copinho ou em casquinha. O valor da casquinha e R$2,00 e o valor do copinho e R$1,00. Qual recipiente você vai escolher?\n",
            "1 - Copinho:\n",
            "2 - Casquinha:\n",
            "1\n",
            "\n",
            "A cobertura pode ser apenas uma por R$1 ou cobertura especial(mais de uma) por apenas R$2,00. Qual você vai querer?\n",
            "1 - Simples\n",
            "2 - Especial\n",
            "2\n",
            "\n",
            "Você vai pagar:  18\n"
          ]
        }
      ]
    }
  ]
}