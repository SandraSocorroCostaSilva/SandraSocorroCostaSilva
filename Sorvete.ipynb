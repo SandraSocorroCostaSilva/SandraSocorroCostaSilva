{
  "nbformat": 4,
  "nbformat_minor": 0,
  "metadata": {
    "colab": {
      "provenance": [],
      "authorship_tag": "ABX9TyPyYU8zTIcsFMW3KEQTzs5c",
      "include_colab_link": true
    },
    "kernelspec": {
      "name": "python3",
      "display_name": "Python 3"
    },
    "language_info": {
      "name": "python"
    }
  },
  "cells": [
    {
      "cell_type": "markdown",
      "metadata": {
        "id": "view-in-github",
        "colab_type": "text"
      },
      "source": [
        "<a href=\"https://colab.research.google.com/github/SandraSocorroCostaSilva/SandraSocorroCostaSilva/blob/main/Sorvete.ipynb\" target=\"_parent\"><img src=\"https://colab.research.google.com/assets/colab-badge.svg\" alt=\"Open In Colab\"/></a>"
      ]
    },
    {
      "cell_type": "code",
      "source": [
        "# complexidade ciclomática\n",
        "\n",
        "preco=0\n",
        "op=0        \n",
        "print(\"Bem vindo a sorveteria de Sandra.Temos 2 tipos de sorvete: Premium e Comum. O premium custa R$20,00 e o comum custa R$ 15,00\\n\\n1 - Sorvete premium\\n2 - Sorvete comum\\n\")\n",
        "preco=int(input(\"\\nQual tipo de sorvete você vai querer?\\n\"))\n",
        "if preco==1:\n",
        "    preco=20\n",
        "else:\n",
        "    preco=15\n",
        "\n",
        "op=int(input(\"\\nNos vendemos o sorvete em copinho ou em casquinha. O valor da casquinha e R$2,00 e o valor do copinho e R$1,00. Qual recipiente você vai escolher?\\n1 - Copinho:\\n2 - Casquinha:\\n\"))\n",
        "if op==1:\n",
        "    \n",
        "    preco=preco+1\n",
        "else:\n",
        "    preco=preco+2\n",
        "\n",
        "op=int(input(\"\\nA cobertura pode ser apenas uma por R$1 ou cobertura especial(mais de uma) por apenas R$2,00. Qual você vai querer?\\n1 - Simples\\n2 - Especial\\n\"))\n",
        "if op==1:\n",
        "    preco=preco+1\n",
        "else:\n",
        "    preco=preco+2\n",
        "\n",
        "print(\"\\nVocê vai pagar: \",preco)"
      ],
      "metadata": {
        "id": "DT-6641L8f3a"
      },
      "execution_count": null,
      "outputs": []
    }
  ]
}